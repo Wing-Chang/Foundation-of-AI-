{
 "cells": [
  {
   "cell_type": "markdown",
   "metadata": {},
   "source": [
    "# 作业2 股票数据清洗\n",
    "\n",
    "同学们好，本次作业的主要内容为使用pandas进行数据预处理。希望这两天你们已经从Python的课程内容中回过神来了。\n",
    "没有数据的分析是无源之水，能够熟练处理数据是成为合格的数据分析师的基本要求，希望大家在今后多多实战，成为数据大师。\n",
    "\n",
    "本次作业将使用公开标普500的股票数据。\n",
    "https://www.kaggle.com/dgawlik/nyse#prices-split-adjusted.csv\n",
    "\n",
    "作业的形式以问答为主，因为不涉及过长的代码，核心是数据的操作，所以这里没有太多的代码模板可供大家参考。\n",
    "希望大家能从搜索引擎（google/bing）问答社区（stackoverflow）或者[官方文档](https://pandas.pydata.org/pandas-docs/stable/user_guide/index.html)或者我提供的jupyter notebooks 中找到回答问题需要的方法。\n",
    "请时刻牢记数据的增删改查四种原子操作，思考我们的问题可以被如何分解。\n",
    "\n",
    "那么首先，我们要import pandas"
   ]
  },
  {
   "cell_type": "code",
   "execution_count": 1,
   "metadata": {},
   "outputs": [],
   "source": [
    "import pandas as pd"
   ]
  },
  {
   "cell_type": "markdown",
   "metadata": {},
   "source": [
    "# 1. 从fundamentals.csv开始！\n",
    "\n",
    "fundamentals.csv 是这些股票的年报数据\n",
    "\n",
    "请用数据回答以下问题：\n",
    "\n",
    "1. S&P500股票在2015年`net income`的均值是多少？最大值比最小值多多少？（每问10分，共计20分）\n",
    "2. S&P500股票在2016年的固定资产（fixed assets）占总资产(total assets)比例的均值是多少？固定资产占总资产比例最小的股票是的代码（ticker symbol）是什么？（每问10分，共计20分）\n"
   ]
  },
  {
   "cell_type": "code",
   "execution_count": 78,
   "metadata": {},
   "outputs": [
    {
     "name": "stdout",
     "output_type": "stream",
     "text": [
      "2015年净收入的均值：1560252997.752809\n",
      "最大值比最小值多：76922000000.0\n",
      "\n",
      "\n",
      "固定资产占总资产比例的均值：0.24428208876549706\n",
      "固定资产占总资产比例最小的股票的代码：['LEN', 'TRV']\n"
     ]
    }
   ],
   "source": [
    "fun_df = pd.read_csv('nyse/fundamentals.csv')\n",
    "fun_df['Period Ending'] = pd.to_datetime(fun_df['Period Ending'])\n",
    "fun_df = fun_df.set_index('Period Ending')\n",
    "# 2015年净收入（net income）的均值\n",
    "mean_net_income = fun_df.loc['2015', 'Net Income'].mean()\n",
    "print('2015年净收入的均值：{}'.format(mean_net_income))\n",
    "# 最大值和最小值的差值\n",
    "difference = fun_df.loc['2015', 'Net Income'].max() - fun_df.loc['2015', 'Net Income'].min()\n",
    "print('最大值比最小值多：{}'.format(difference)) \n",
    "\n",
    "print('\\n')\n",
    "\n",
    "# 2016年的固定资产（fixed assets）占总资产(total assets)比例的均值\n",
    "proportion_mean = (fun_df.loc['2016', 'Fixed Assets'] / fun_df.loc['2016', 'Total Assets']).mean()\n",
    "print('固定资产占总资产比例的均值：{}'.format(proportion_mean))\n",
    "# 比列的最小值\n",
    "proportion_min = (fun_df.loc['2016', 'Fixed Assets'] / fun_df.loc['2016', 'Total Assets']).min()\n",
    "symbol_list = []\n",
    "# 找出比例最小的股票是的代码（ticker symbol）\n",
    "def find_prop_min(obj):\n",
    "    for index, row in obj.iterrows():\n",
    "        proportion = row['Fixed Assets'] / row['Total Assets']\n",
    "        if proportion == proportion_min:\n",
    "            symbol_list.append(row['Ticker Symbol'])\n",
    "    return symbol_list\n",
    "\n",
    "print('固定资产占总资产比例最小的股票的代码：{}'.format(find_prop_min((fun_df.loc['2016']))))"
   ]
  },
  {
   "cell_type": "markdown",
   "metadata": {},
   "source": [
    "# 2. 加入securities.csv~\n",
    "\n",
    "securities.csv包含了这些股票的基本信息\n",
    "\n",
    "1. 请列举出各个sector中的加入时间最早的股票名称（10分）\n",
    "2. 请列举出每一个州中加入时间最晚的股票名称（10分）\n"
   ]
  },
  {
   "cell_type": "code",
   "execution_count": 89,
   "metadata": {},
   "outputs": [
    {
     "name": "stdout",
     "output_type": "stream",
     "text": [
      "各个sector中的加入时间最早的股票名称：['ABT', 'HON', 'SHW', 'SLB', 'GIS', 'MCD', 'HPQ', 'JPM', 'DUK', 'T', 'AVB']\n",
      "\n",
      "\n",
      "各个sector中的加入时间最晚的股票名称：['IDXX', 'MAA', 'COTY', 'CHTR', 'LNT', 'FTV', 'ALB', 'AJG', 'GPN', 'CXO', 'LVLT']\n"
     ]
    }
   ],
   "source": [
    "sec_df = pd.read_csv('nyse/securities.csv')\n",
    "sec_df.head()\n",
    "sec_df['Date first added'] = pd.to_datetime(sec_df['Date first added'])\n",
    "sec_df = sec_df.set_index('Date first added')\n",
    "sec_df = sec_df.sort_index()\n",
    "sec_df.dropna(axis = 0, how = 'any', inplace = True) # 处理缺失数据\n",
    "# 找出各个sector中的加入时间最早的股票名称\n",
    "symbol_earliest = []\n",
    "def find_time_earliest(obj):\n",
    "    sector_list = []\n",
    "    for index, row in obj.iterrows():\n",
    "        if row['GICS Sector'] not in sector_list:\n",
    "            sector_list.append(row['GICS Sector'])\n",
    "            symbol_earliest.append(row['Ticker symbol'])\n",
    "    return symbol_earliest\n",
    "print('各个sector中的加入时间最早的股票名称：{}'.format(find_time_earliest(sec_df)))\n",
    "\n",
    "print('\\n')\n",
    "\n",
    "sec_df = sec_df.sort_index(ascending = False)\n",
    "# 找出各个sector中的加入时间最晚的股票名称\n",
    "symbol_latest = []\n",
    "def find_time_latest(obj):\n",
    "    sector_list = []\n",
    "    for index, row in obj.iterrows():\n",
    "        if row['GICS Sector'] not in sector_list:\n",
    "            sector_list.append(row['GICS Sector'])\n",
    "            symbol_latest.append(row['Ticker symbol'])\n",
    "    return symbol_latest\n",
    "print('各个sector中的加入时间最晚的股票名称：{}'.format(find_time_latest(sec_df)))"
   ]
  },
  {
   "cell_type": "markdown",
   "metadata": {},
   "source": [
    "# 3. merge!\n",
    "\n",
    "现在你需要同时处理来自两个表中的信息了\n",
    "\n",
    "1. 请思考，合并两个表的信息的时候，我们应该用什么样的准则对其它们（10分）\n",
    "2. 请列举每个sector在2013-2016年累计Research&Development的总投入（10分）\n",
    "3. 请列举出每个sector中，在2013-2016年累计Research&development投入最大的3家公司的名称以及投入的数值（20分）"
   ]
  },
  {
   "cell_type": "markdown",
   "metadata": {},
   "source": [
    "1、若表格之间有共同的列，则对共同的列进行合并\n",
    "2、若表格之间没有共同的列，则尽量取表格的并集"
   ]
  },
  {
   "cell_type": "code",
   "execution_count": 46,
   "metadata": {},
   "outputs": [
    {
     "name": "stdout",
     "output_type": "stream",
     "text": [
      "sector Industrials在2013-2016年累计Research&Development的总投入：42658899000.0\n",
      "该sector中投入最大的3家公司的名称及投入数值：\n",
      "[('Industrial Conglomerates', 18063500000.0), ('Construction & Farm Machinery & Heavy Trucks', 11606200000.0), ('Aerospace & Defense', 10097000000.0)]\n",
      "\n",
      "sector Consumer Discretionary在2013-2016年累计Research&Development的总投入：1860178000.0\n",
      "该sector中投入最大的3家公司的名称及投入数值：\n",
      "[('Consumer Electronics', 1187087000.0), ('Leisure Products', 673091000.0), ('Automotive Retail', 0.0)]\n",
      "\n",
      "sector Information Technology在2013-2016年累计Research&Development的总投入：234483864000.0\n",
      "该sector中投入最大的3家公司的名称及投入数值：\n",
      "[('Semiconductors', 69615189000.0), ('Systems Software', 34786269000.0), ('Internet Software & Services', 25462846000.0)]\n",
      "\n",
      "sector Health Care在2013-2016年累计Research&Development的总投入：150625581000.0\n",
      "该sector中投入最大的3家公司的名称及投入数值：\n",
      "[('Pharmaceuticals', 72059000000.0), ('Biotechnology', 42167895000.0), ('Health Care Equipment', 18655096000.0)]\n",
      "\n",
      "sector Consumer Staples在2013-2016年累计Research&Development的总投入：4833577000.0\n",
      "该sector中投入最大的3家公司的名称及投入数值：\n",
      "[('Personal Products', 3751877000.0), ('Packaged Foods & Meats', 690700000.0), ('Household Products', 391000000.0)]\n",
      "\n",
      "sector Utilities在2013-2016年累计Research&Development的总投入：0.0\n",
      "该sector中投入最大的3家公司的名称及投入数值：\n",
      "[('MultiUtilities', 0.0), ('Electric Utilities', 0.0), ('Water Utilities', 0.0)]\n",
      "\n",
      "sector Financials在2013-2016年累计Research&Development的总投入：184630000.0\n",
      "该sector中投入最大的3家公司的名称及投入数值：\n",
      "[('Banks', 184630000.0), ('Life & Health Insurance', 0.0), ('Property & Casualty Insurance', 0.0)]\n",
      "\n",
      "sector Real Estate在2013-2016年累计Research&Development的总投入：116210000.0\n",
      "该sector中投入最大的3家公司的名称及投入数值：\n",
      "[('REITs', 116210000.0), ('Specialized REITs', 0.0), ('Residential REITs', 0.0)]\n",
      "\n",
      "sector Materials在2013-2016年累计Research&Development的总投入：16865206000.0\n",
      "该sector中投入最大的3家公司的名称及投入数值：\n",
      "[('Diversified Chemicals', 8750600000.0), ('Fertilizers & Agricultural Chemicals', 4838000000.0), ('Gold', 1083000000.0)]\n",
      "\n",
      "sector Energy在2013-2016年累计Research&Development的总投入：1682244000.0\n",
      "该sector中投入最大的3家公司的名称及投入数值：\n",
      "[('Oil & Gas Equipment & Services', 1635000000.0), ('Oil & Gas Drilling', 47244000.0), ('Oil & Gas Exploration & Production', 0.0)]\n",
      "\n",
      "sector Telecommunications Services在2013-2016年累计Research&Development的总投入：0.0\n",
      "该sector中投入最大的3家公司的名称及投入数值：\n",
      "[('Integrated Telecommunications Services', 0.0), ('Alternative Carriers', 0.0)]\n",
      "\n"
     ]
    }
   ],
   "source": [
    "fun_df = pd.read_csv('nyse/fundamentals.csv')\n",
    "sec_df = pd.read_csv('nyse/securities.csv')\n",
    "fun_df.columns = fun_df.columns.str.lower() # 将所有列名小写化\n",
    "sec_df.columns = sec_df.columns.str.lower() # 将所有列名小写化\n",
    "new_df = pd.merge(fun_df, sec_df, on = 'ticker symbol', how = 'inner') # 按股票代码（ticker symbol）进行合并\n",
    "new_df['period ending'] = pd.to_datetime(new_df['period ending'])\n",
    "new_df = new_df.set_index('period ending')\n",
    "\n",
    "new_df = new_df.loc[(new_df.index > '2013') & (new_df.index < '2016')] # 筛选出2013-2016年的数据\n",
    "\n",
    "total_invest = dict()\n",
    "# 对sector进行迭代，找出每个sector在2013-2016年累计Research&Development的总投入\n",
    "for sector in new_df['gics sector'].unique():\n",
    "    total_invest[sector] = new_df[new_df['gics sector'] == sector]['research and development'].sum()\n",
    "    print('sector {}在2013-2016年累计Research&Development的总投入：{}'.format(sector, total_invest[sector]))\n",
    "    invest_largest = dict()\n",
    "    # 对industry进行迭代，找出投入最大的3家公司的名称及投入数值\n",
    "    for industry in new_df[new_df['gics sector'] == sector]['gics sub industry']:\n",
    "        invest_largest[industry] = new_df[new_df['gics sub industry'] == industry]['research and development'].sum()\n",
    "    invest_largest = sorted(invest_largest.items(), key = lambda d: d[1], reverse = True)\n",
    "    print('该sector中投入最大的3家公司的名称及投入数值：\\n{}\\n'.format(invest_largest[0:3]))"
   ]
  },
  {
   "cell_type": "markdown",
   "metadata": {},
   "source": [
    "# 4. 现在让我们来看看更加复杂的数据\n",
    "\n",
    "请导入price.csv，然后结合你的聪明才智回答以下问题（附加题，40分）\n",
    "\n",
    "假设你是某基金公司的老板，现在对于每只股票，你都专门安排了一位负责它的交易员。公司规定每一位交易员手中的资金要么全部买入要么全部卖出（空仓，转化为现金）。假设2016年每一位交易员手中都有10000美元，假设他们都能够看到2016年全年的数据，假设他们都能抓住每一次机会，那么请问2016年底时，赚钱最多的股票是哪一只，赚了多少钱？"
   ]
  },
  {
   "cell_type": "code",
   "execution_count": null,
   "metadata": {},
   "outputs": [],
   "source": []
  }
 ],
 "metadata": {
  "kernelspec": {
   "display_name": "Python 3",
   "language": "python",
   "name": "python3"
  },
  "language_info": {
   "codemirror_mode": {
    "name": "ipython",
    "version": 3
   },
   "file_extension": ".py",
   "mimetype": "text/x-python",
   "name": "python",
   "nbconvert_exporter": "python",
   "pygments_lexer": "ipython3",
   "version": "3.7.3"
  }
 },
 "nbformat": 4,
 "nbformat_minor": 2
}
